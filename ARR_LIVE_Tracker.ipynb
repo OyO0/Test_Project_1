{
 "cells": [
  {
   "cell_type": "code",
   "execution_count": 3,
   "id": "a38fca38",
   "metadata": {},
   "outputs": [],
   "source": [
    "import pandas as pd\n",
    "from pandas.io import gbq\n",
    "import numpy as np\n",
    "import mysql.connector\n",
    "import pandas as pd\n",
    "import numpy as np\n",
    "from pyhive import presto\n",
    "import datetime\n",
    "from dateutil.relativedelta import relativedelta\n",
    "from TCLIService.ttypes import TOperationState\n",
    "import sqlalchemy\n",
    "import oyoms as om\n",
    "\n",
    "conn = presto.connect(host='presto.oyorooms.io',port=8889,username='vikram.singh6@oyorooms.com',schema = 'ingestiondb')\n"
   ]
  },
  {
   "cell_type": "markdown",
   "id": "d408e01a",
   "metadata": {},
   "source": [
    "Building Connection with workbook on Onedrive"
   ]
  },
  {
   "cell_type": "code",
   "execution_count": 4,
   "id": "5e2b4cc8",
   "metadata": {},
   "outputs": [],
   "source": [
    "excel_link = 'https://oyoenterprise-my.sharepoint.com/:x:/g/personal/finance_analyst_oyorooms_com/ER6hwRJkBohKpXtAROZ9uzsBhiw3hk_QjYQRZcpMLfLR7w?e=nQDMCh'\n",
    "wb = om.WorkbookClient('vikram.singh6@oyorooms.com', excel_link)"
   ]
  },
  {
   "cell_type": "code",
   "execution_count": 7,
   "id": "6e9ff26e",
   "metadata": {},
   "outputs": [],
   "source": [
    "Qry_1 = \"\"\"\n",
    "\n",
    "select distinct \n",
    "cast((cast(bb.created_at as timestamp) + interval '5' hour) + interval '30' minute as date) Data_Date,\n",
    "hs.hub_name,\n",
    "date_format((cast(bb.created_at as timestamp) + interval '5' hour) + interval '30' minute,'%H') Hours,\n",
    "sum(date_diff('day',date(checkin),date(checkout))) urns,           \n",
    "sum(coalesce(bb.amount ,bb.amount_f,0) - coalesce(bb.discount ,bb.discount_f,0)) RT\n",
    "from ordering_realtime.bookings bb\n",
    "inner join aggregatedb.hotels_summary hs on bb.hotel_id = hs.hotel_id\n",
    "where bb.inserted_at >= date_format(date_trunc('month', current_date) - interval '1' day,'%Y%m') \n",
    "and cast(cast(bb.created_at as timestamp) as date) >= date_trunc('month', ((now()  + interval '5' hour) + interval '30' minute)) - interval '1' day\n",
    "and hs.country_id = 1\n",
    "group by 1,2,3\n",
    "order by date_format((cast(bb.created_at as timestamp) + interval '5' hour) + interval '30' minute,'%H')\n",
    "\n",
    "\n",
    "\"\"\"\n",
    "\n",
    "Qry_2 = \"\"\"\n",
    "\n",
    "select distinct \n",
    "(date_trunc('month', ((now() + interval '5' hour) + interval '30' minute)) - interval '1' day) Data_Date,\n",
    "hs.hub_name,\n",
    "date_format((cast(bb.created_at as timestamp) + interval '5' hour) + interval '30' minute,'%H') Hours,\n",
    "sum(date_diff('day',date(checkin),date(checkout))) urns,           \n",
    "sum(coalesce(bb.amount ,bb.amount_f,0) - coalesce(bb.discount ,bb.discount_f,0)) RT\n",
    "from ordering_realtime.bookings bb\n",
    "inner join aggregatedb.hotels_summary hs on bb.hotel_id = hs.hotel_id\n",
    "where bb.inserted_at >= date_format(date_trunc('month', current_date) - interval '1' day,'%Y%m') \n",
    "and cast(cast(bb.created_at as timestamp) as date) between date_trunc('month',(date_trunc('month', ((now()  + interval '5' hour) + interval '30' minute)) - interval '1' day)) and (date_trunc('month', ((now()  + interval '5' hour) + interval '30' minute)) - interval '1' day)\n",
    "and hs.country_id = 1\n",
    "group by 1,2,3\n",
    "order by date_format((cast(bb.created_at as timestamp) + interval '5' hour) + interval '30' minute,'%H')\n",
    "\n",
    "\n",
    "\"\"\"\n",
    "\n",
    "Qry_3 = \"\"\"\n",
    "\n",
    "select distinct \n",
    "(((now()  + interval '5' hour) + interval '30' minute) - interval '7' day) Data_Date,\n",
    "hs.hub_name,\n",
    "date_format((cast(bb.created_at as timestamp) + interval '5' hour) + interval '30' minute,'%H') Hours,\n",
    "sum(date_diff('day',date(checkin),date(checkout))) urns,           \n",
    "sum(coalesce(bb.amount ,bb.amount_f,0) - coalesce(bb.discount ,bb.discount_f,0)) RT\n",
    "from ordering_realtime.bookings bb\n",
    "inner join aggregatedb.hotels_summary hs on bb.hotel_id = hs.hotel_id\n",
    "where bb.inserted_at >= date_format(date_trunc('month', current_date) - interval '1' day,'%Y%m') \n",
    "and (cast(cast(bb.created_at as timestamp) as date) between (((now()  + interval '5' hour) + interval '30' minute) - interval '14' day) and  (((now()  + interval '5' hour) + interval '30' minute) - interval '7' day))\n",
    "and hs.country_id = 1\n",
    "group by 1,2,3\n",
    "order by date_format((cast(bb.created_at as timestamp) + interval '5' hour) + interval '30' minute,'%H')\n",
    "\n",
    "\"\"\"\n",
    "\n",
    "Qry_4 = \"\"\"\n",
    "\n",
    "select \n",
    "max(((cast(created_at as timestamp) + interval '5' hour) + interval '30' minute))\n",
    "from \n",
    "ordering_realtime.bookings\n",
    "\n",
    "\"\"\"\n",
    "\n",
    "\n"
   ]
  },
  {
   "cell_type": "code",
   "execution_count": 8,
   "id": "0b110e26",
   "metadata": {},
   "outputs": [],
   "source": [
    "df_1 = pd.read_sql_query(Qry_1,conn)\n",
    "df_2 = pd.read_sql_query(Qry_2,conn)\n",
    "df_3 = pd.read_sql_query(Qry_3,conn)\n",
    "df_1=df_1.append(df_2)\n",
    "df_1=df_1.append(df_3)\n",
    "wb.clear_range('RAW',range_address='A:E',apply_to='ALL')\n",
    "wb.write_data(sheet_name = 'RAW', df = df_1, location = 'A1', include_header = True)\n",
    "df_4 = pd.read_sql_query(Qry_4,conn)\n",
    "wb.write_value('Live ARR Dashboard', range_address='Z1', value=pd.to_datetime(datetime.datetime.today()))"
   ]
  },
  {
   "cell_type": "code",
   "execution_count": null,
   "id": "707c271e",
   "metadata": {},
   "outputs": [],
   "source": [
    "del df_1,df_2,df_3,df_4"
   ]
  },
  {
   "cell_type": "code",
   "execution_count": null,
   "id": "cde3d58f",
   "metadata": {},
   "outputs": [],
   "source": []
  }
 ],
 "metadata": {
  "kernelspec": {
   "display_name": "Python 3 (ipykernel)",
   "language": "python",
   "name": "python3"
  },
  "language_info": {
   "codemirror_mode": {
    "name": "ipython",
    "version": 3
   },
   "file_extension": ".py",
   "mimetype": "text/x-python",
   "name": "python",
   "nbconvert_exporter": "python",
   "pygments_lexer": "ipython3",
   "version": "3.9.7"
  }
 },
 "nbformat": 4,
 "nbformat_minor": 5
}
